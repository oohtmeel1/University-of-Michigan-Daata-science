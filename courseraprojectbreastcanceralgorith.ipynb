{
 "cells": [
  {
   "cell_type": "markdown",
   "id": "0e92f8d4",
   "metadata": {
    "papermill": {
     "duration": 0.009583,
     "end_time": "2022-12-03T03:21:38.385696",
     "exception": false,
     "start_time": "2022-12-03T03:21:38.376113",
     "status": "completed"
    },
    "tags": []
   },
   "source": [
    "---\n",
    "---"
   ]
  },
  {
   "cell_type": "markdown",
   "id": "f2c0a397",
   "metadata": {
    "papermill": {
     "duration": 0.008006,
     "end_time": "2022-12-03T03:21:38.402304",
     "exception": false,
     "start_time": "2022-12-03T03:21:38.394298",
     "status": "completed"
    },
    "tags": []
   },
   "source": [
    "# Assignment 1 - Introduction to Machine Learning"
   ]
  },
  {
   "cell_type": "markdown",
   "id": "20df8614",
   "metadata": {
    "papermill": {
     "duration": 0.007814,
     "end_time": "2022-12-03T03:21:38.418330",
     "exception": false,
     "start_time": "2022-12-03T03:21:38.410516",
     "status": "completed"
    },
    "tags": []
   },
   "source": [
    "For this assignment, you will be using the Breast Cancer Wisconsin (Diagnostic) Database to create a classifier that can help diagnose patients. First, read through the description of the dataset (below)."
   ]
  },
  {
   "cell_type": "code",
   "execution_count": 1,
   "id": "4e385bdc",
   "metadata": {
    "execution": {
     "iopub.execute_input": "2022-12-03T03:21:38.437718Z",
     "iopub.status.busy": "2022-12-03T03:21:38.436481Z",
     "iopub.status.idle": "2022-12-03T03:21:39.690487Z",
     "shell.execute_reply": "2022-12-03T03:21:39.689315Z"
    },
    "papermill": {
     "duration": 1.266962,
     "end_time": "2022-12-03T03:21:39.693660",
     "exception": false,
     "start_time": "2022-12-03T03:21:38.426698",
     "status": "completed"
    },
    "tags": []
   },
   "outputs": [],
   "source": [
    "import numpy as np\n",
    "import pandas as pd\n",
    "from sklearn.datasets import load_breast_cancer\n",
    "\n",
    "cancer = load_breast_cancer()\n",
    "\n",
    "#print(cancer.DESCR)\n",
    "# Print the data set description"
   ]
  },
  {
   "cell_type": "markdown",
   "id": "ef594f8d",
   "metadata": {
    "papermill": {
     "duration": 0.007958,
     "end_time": "2022-12-03T03:21:39.710944",
     "exception": false,
     "start_time": "2022-12-03T03:21:39.702986",
     "status": "completed"
    },
    "tags": []
   },
   "source": [
    "The object returned by `load_breast_cancer()` is a scikit-learn Bunch object, which is similar to a dictionary."
   ]
  },
  {
   "cell_type": "code",
   "execution_count": 2,
   "id": "f73f1a08",
   "metadata": {
    "collapsed": false,
    "execution": {
     "iopub.execute_input": "2022-12-03T03:21:39.732142Z",
     "iopub.status.busy": "2022-12-03T03:21:39.730659Z",
     "iopub.status.idle": "2022-12-03T03:21:39.741936Z",
     "shell.execute_reply": "2022-12-03T03:21:39.740564Z"
    },
    "jupyter": {
     "outputs_hidden": false
    },
    "papermill": {
     "duration": 0.025852,
     "end_time": "2022-12-03T03:21:39.744958",
     "exception": false,
     "start_time": "2022-12-03T03:21:39.719106",
     "status": "completed"
    },
    "tags": []
   },
   "outputs": [
    {
     "data": {
      "text/plain": [
       "dict_keys(['data', 'target', 'frame', 'target_names', 'DESCR', 'feature_names', 'filename', 'data_module'])"
      ]
     },
     "execution_count": 2,
     "metadata": {},
     "output_type": "execute_result"
    }
   ],
   "source": [
    "cancer.keys()"
   ]
  },
  {
   "cell_type": "markdown",
   "id": "6c91efe9",
   "metadata": {
    "papermill": {
     "duration": 0.008222,
     "end_time": "2022-12-03T03:21:39.762057",
     "exception": false,
     "start_time": "2022-12-03T03:21:39.753835",
     "status": "completed"
    },
    "tags": []
   },
   "source": [
    "### Question 0 (Example)\n",
    "\n",
    "How many features does the breast cancer dataset have?\n",
    "\n",
    "*This function should return an integer.*"
   ]
  },
  {
   "cell_type": "code",
   "execution_count": 3,
   "id": "6ddbd1e4",
   "metadata": {
    "collapsed": false,
    "execution": {
     "iopub.execute_input": "2022-12-03T03:21:39.781251Z",
     "iopub.status.busy": "2022-12-03T03:21:39.780796Z",
     "iopub.status.idle": "2022-12-03T03:21:39.788926Z",
     "shell.execute_reply": "2022-12-03T03:21:39.787620Z"
    },
    "jupyter": {
     "outputs_hidden": false
    },
    "papermill": {
     "duration": 0.021202,
     "end_time": "2022-12-03T03:21:39.791655",
     "exception": false,
     "start_time": "2022-12-03T03:21:39.770453",
     "status": "completed"
    },
    "tags": []
   },
   "outputs": [
    {
     "data": {
      "text/plain": [
       "30"
      ]
     },
     "execution_count": 3,
     "metadata": {},
     "output_type": "execute_result"
    }
   ],
   "source": [
    "# You should write your whole answer within the function provided. The autograder will call\n",
    "# this function and compare the return value against the correct solution value\n",
    "def answer_zero():\n",
    "    # This function returns the number of features of the breast cancer dataset, which is an integer. \n",
    "    # The assignment question description will tell you the general format the autograder is expecting\n",
    "    return len(cancer['feature_names'])\n",
    "\n",
    "answer_zero() "
   ]
  },
  {
   "cell_type": "markdown",
   "id": "5f5bb259",
   "metadata": {
    "papermill": {
     "duration": 0.008981,
     "end_time": "2022-12-03T03:21:39.809801",
     "exception": false,
     "start_time": "2022-12-03T03:21:39.800820",
     "status": "completed"
    },
    "tags": []
   },
   "source": [
    "### Question 1\n",
    "\n",
    "Scikit-learn works with lists, numpy arrays, scipy-sparse matrices, and pandas DataFrames, so converting the dataset to a DataFrame is not necessary for training this model. Using a DataFrame does however help make many things easier such as munging data, so let's practice creating a classifier with a pandas DataFrame. \n",
    "\n",
    "\n",
    "\n",
    "Convert the sklearn.dataset `cancer` to a DataFrame. \n",
    "\n",
    "*This function should return a `(569, 31)` DataFrame with * \n",
    "\n",
    "*columns = *\n",
    "\n",
    "    ['mean radius', 'mean texture', 'mean perimeter', 'mean area',\n",
    "    'mean smoothness', 'mean compactness', 'mean concavity',\n",
    "    'mean concave points', 'mean symmetry', 'mean fractal dimension',\n",
    "    'radius error', 'texture error', 'perimeter error', 'area error',\n",
    "    'smoothness error', 'compactness error', 'concavity error',\n",
    "    'concave points error', 'symmetry error', 'fractal dimension error',\n",
    "    'worst radius', 'worst texture', 'worst perimeter', 'worst area',\n",
    "    'worst smoothness', 'worst compactness', 'worst concavity',\n",
    "    'worst concave points', 'worst symmetry', 'worst fractal dimension',\n",
    "    'target']\n",
    "\n",
    "*and index = *\n",
    "\n",
    "    RangeIndex(start=0, stop=569, step=1)"
   ]
  },
  {
   "cell_type": "code",
   "execution_count": 4,
   "id": "e8ad6a19",
   "metadata": {
    "execution": {
     "iopub.execute_input": "2022-12-03T03:21:39.829753Z",
     "iopub.status.busy": "2022-12-03T03:21:39.828546Z",
     "iopub.status.idle": "2022-12-03T03:21:39.888202Z",
     "shell.execute_reply": "2022-12-03T03:21:39.886882Z"
    },
    "papermill": {
     "duration": 0.072428,
     "end_time": "2022-12-03T03:21:39.890809",
     "exception": false,
     "start_time": "2022-12-03T03:21:39.818381",
     "status": "completed"
    },
    "tags": []
   },
   "outputs": [
    {
     "data": {
      "text/html": [
       "<div>\n",
       "<style scoped>\n",
       "    .dataframe tbody tr th:only-of-type {\n",
       "        vertical-align: middle;\n",
       "    }\n",
       "\n",
       "    .dataframe tbody tr th {\n",
       "        vertical-align: top;\n",
       "    }\n",
       "\n",
       "    .dataframe thead th {\n",
       "        text-align: right;\n",
       "    }\n",
       "</style>\n",
       "<table border=\"1\" class=\"dataframe\">\n",
       "  <thead>\n",
       "    <tr style=\"text-align: right;\">\n",
       "      <th></th>\n",
       "      <th>mean radius</th>\n",
       "      <th>mean texture</th>\n",
       "      <th>mean perimeter</th>\n",
       "      <th>mean area</th>\n",
       "      <th>mean smoothness</th>\n",
       "      <th>mean compactness</th>\n",
       "      <th>mean concavity</th>\n",
       "      <th>mean concave points</th>\n",
       "      <th>mean symmetry</th>\n",
       "      <th>mean fractal dimension</th>\n",
       "      <th>...</th>\n",
       "      <th>worst texture</th>\n",
       "      <th>worst perimeter</th>\n",
       "      <th>worst area</th>\n",
       "      <th>worst smoothness</th>\n",
       "      <th>worst compactness</th>\n",
       "      <th>worst concavity</th>\n",
       "      <th>worst concave points</th>\n",
       "      <th>worst symmetry</th>\n",
       "      <th>worst fractal dimension</th>\n",
       "      <th>target</th>\n",
       "    </tr>\n",
       "  </thead>\n",
       "  <tbody>\n",
       "    <tr>\n",
       "      <th>0</th>\n",
       "      <td>17.99</td>\n",
       "      <td>10.38</td>\n",
       "      <td>122.80</td>\n",
       "      <td>1001.0</td>\n",
       "      <td>0.11840</td>\n",
       "      <td>0.27760</td>\n",
       "      <td>0.30010</td>\n",
       "      <td>0.14710</td>\n",
       "      <td>0.2419</td>\n",
       "      <td>0.07871</td>\n",
       "      <td>...</td>\n",
       "      <td>17.33</td>\n",
       "      <td>184.60</td>\n",
       "      <td>2019.0</td>\n",
       "      <td>0.16220</td>\n",
       "      <td>0.66560</td>\n",
       "      <td>0.7119</td>\n",
       "      <td>0.2654</td>\n",
       "      <td>0.4601</td>\n",
       "      <td>0.11890</td>\n",
       "      <td>0.0</td>\n",
       "    </tr>\n",
       "    <tr>\n",
       "      <th>1</th>\n",
       "      <td>20.57</td>\n",
       "      <td>17.77</td>\n",
       "      <td>132.90</td>\n",
       "      <td>1326.0</td>\n",
       "      <td>0.08474</td>\n",
       "      <td>0.07864</td>\n",
       "      <td>0.08690</td>\n",
       "      <td>0.07017</td>\n",
       "      <td>0.1812</td>\n",
       "      <td>0.05667</td>\n",
       "      <td>...</td>\n",
       "      <td>23.41</td>\n",
       "      <td>158.80</td>\n",
       "      <td>1956.0</td>\n",
       "      <td>0.12380</td>\n",
       "      <td>0.18660</td>\n",
       "      <td>0.2416</td>\n",
       "      <td>0.1860</td>\n",
       "      <td>0.2750</td>\n",
       "      <td>0.08902</td>\n",
       "      <td>0.0</td>\n",
       "    </tr>\n",
       "    <tr>\n",
       "      <th>2</th>\n",
       "      <td>19.69</td>\n",
       "      <td>21.25</td>\n",
       "      <td>130.00</td>\n",
       "      <td>1203.0</td>\n",
       "      <td>0.10960</td>\n",
       "      <td>0.15990</td>\n",
       "      <td>0.19740</td>\n",
       "      <td>0.12790</td>\n",
       "      <td>0.2069</td>\n",
       "      <td>0.05999</td>\n",
       "      <td>...</td>\n",
       "      <td>25.53</td>\n",
       "      <td>152.50</td>\n",
       "      <td>1709.0</td>\n",
       "      <td>0.14440</td>\n",
       "      <td>0.42450</td>\n",
       "      <td>0.4504</td>\n",
       "      <td>0.2430</td>\n",
       "      <td>0.3613</td>\n",
       "      <td>0.08758</td>\n",
       "      <td>0.0</td>\n",
       "    </tr>\n",
       "    <tr>\n",
       "      <th>3</th>\n",
       "      <td>11.42</td>\n",
       "      <td>20.38</td>\n",
       "      <td>77.58</td>\n",
       "      <td>386.1</td>\n",
       "      <td>0.14250</td>\n",
       "      <td>0.28390</td>\n",
       "      <td>0.24140</td>\n",
       "      <td>0.10520</td>\n",
       "      <td>0.2597</td>\n",
       "      <td>0.09744</td>\n",
       "      <td>...</td>\n",
       "      <td>26.50</td>\n",
       "      <td>98.87</td>\n",
       "      <td>567.7</td>\n",
       "      <td>0.20980</td>\n",
       "      <td>0.86630</td>\n",
       "      <td>0.6869</td>\n",
       "      <td>0.2575</td>\n",
       "      <td>0.6638</td>\n",
       "      <td>0.17300</td>\n",
       "      <td>0.0</td>\n",
       "    </tr>\n",
       "    <tr>\n",
       "      <th>4</th>\n",
       "      <td>20.29</td>\n",
       "      <td>14.34</td>\n",
       "      <td>135.10</td>\n",
       "      <td>1297.0</td>\n",
       "      <td>0.10030</td>\n",
       "      <td>0.13280</td>\n",
       "      <td>0.19800</td>\n",
       "      <td>0.10430</td>\n",
       "      <td>0.1809</td>\n",
       "      <td>0.05883</td>\n",
       "      <td>...</td>\n",
       "      <td>16.67</td>\n",
       "      <td>152.20</td>\n",
       "      <td>1575.0</td>\n",
       "      <td>0.13740</td>\n",
       "      <td>0.20500</td>\n",
       "      <td>0.4000</td>\n",
       "      <td>0.1625</td>\n",
       "      <td>0.2364</td>\n",
       "      <td>0.07678</td>\n",
       "      <td>0.0</td>\n",
       "    </tr>\n",
       "    <tr>\n",
       "      <th>...</th>\n",
       "      <td>...</td>\n",
       "      <td>...</td>\n",
       "      <td>...</td>\n",
       "      <td>...</td>\n",
       "      <td>...</td>\n",
       "      <td>...</td>\n",
       "      <td>...</td>\n",
       "      <td>...</td>\n",
       "      <td>...</td>\n",
       "      <td>...</td>\n",
       "      <td>...</td>\n",
       "      <td>...</td>\n",
       "      <td>...</td>\n",
       "      <td>...</td>\n",
       "      <td>...</td>\n",
       "      <td>...</td>\n",
       "      <td>...</td>\n",
       "      <td>...</td>\n",
       "      <td>...</td>\n",
       "      <td>...</td>\n",
       "      <td>...</td>\n",
       "    </tr>\n",
       "    <tr>\n",
       "      <th>564</th>\n",
       "      <td>21.56</td>\n",
       "      <td>22.39</td>\n",
       "      <td>142.00</td>\n",
       "      <td>1479.0</td>\n",
       "      <td>0.11100</td>\n",
       "      <td>0.11590</td>\n",
       "      <td>0.24390</td>\n",
       "      <td>0.13890</td>\n",
       "      <td>0.1726</td>\n",
       "      <td>0.05623</td>\n",
       "      <td>...</td>\n",
       "      <td>26.40</td>\n",
       "      <td>166.10</td>\n",
       "      <td>2027.0</td>\n",
       "      <td>0.14100</td>\n",
       "      <td>0.21130</td>\n",
       "      <td>0.4107</td>\n",
       "      <td>0.2216</td>\n",
       "      <td>0.2060</td>\n",
       "      <td>0.07115</td>\n",
       "      <td>0.0</td>\n",
       "    </tr>\n",
       "    <tr>\n",
       "      <th>565</th>\n",
       "      <td>20.13</td>\n",
       "      <td>28.25</td>\n",
       "      <td>131.20</td>\n",
       "      <td>1261.0</td>\n",
       "      <td>0.09780</td>\n",
       "      <td>0.10340</td>\n",
       "      <td>0.14400</td>\n",
       "      <td>0.09791</td>\n",
       "      <td>0.1752</td>\n",
       "      <td>0.05533</td>\n",
       "      <td>...</td>\n",
       "      <td>38.25</td>\n",
       "      <td>155.00</td>\n",
       "      <td>1731.0</td>\n",
       "      <td>0.11660</td>\n",
       "      <td>0.19220</td>\n",
       "      <td>0.3215</td>\n",
       "      <td>0.1628</td>\n",
       "      <td>0.2572</td>\n",
       "      <td>0.06637</td>\n",
       "      <td>0.0</td>\n",
       "    </tr>\n",
       "    <tr>\n",
       "      <th>566</th>\n",
       "      <td>16.60</td>\n",
       "      <td>28.08</td>\n",
       "      <td>108.30</td>\n",
       "      <td>858.1</td>\n",
       "      <td>0.08455</td>\n",
       "      <td>0.10230</td>\n",
       "      <td>0.09251</td>\n",
       "      <td>0.05302</td>\n",
       "      <td>0.1590</td>\n",
       "      <td>0.05648</td>\n",
       "      <td>...</td>\n",
       "      <td>34.12</td>\n",
       "      <td>126.70</td>\n",
       "      <td>1124.0</td>\n",
       "      <td>0.11390</td>\n",
       "      <td>0.30940</td>\n",
       "      <td>0.3403</td>\n",
       "      <td>0.1418</td>\n",
       "      <td>0.2218</td>\n",
       "      <td>0.07820</td>\n",
       "      <td>0.0</td>\n",
       "    </tr>\n",
       "    <tr>\n",
       "      <th>567</th>\n",
       "      <td>20.60</td>\n",
       "      <td>29.33</td>\n",
       "      <td>140.10</td>\n",
       "      <td>1265.0</td>\n",
       "      <td>0.11780</td>\n",
       "      <td>0.27700</td>\n",
       "      <td>0.35140</td>\n",
       "      <td>0.15200</td>\n",
       "      <td>0.2397</td>\n",
       "      <td>0.07016</td>\n",
       "      <td>...</td>\n",
       "      <td>39.42</td>\n",
       "      <td>184.60</td>\n",
       "      <td>1821.0</td>\n",
       "      <td>0.16500</td>\n",
       "      <td>0.86810</td>\n",
       "      <td>0.9387</td>\n",
       "      <td>0.2650</td>\n",
       "      <td>0.4087</td>\n",
       "      <td>0.12400</td>\n",
       "      <td>0.0</td>\n",
       "    </tr>\n",
       "    <tr>\n",
       "      <th>568</th>\n",
       "      <td>7.76</td>\n",
       "      <td>24.54</td>\n",
       "      <td>47.92</td>\n",
       "      <td>181.0</td>\n",
       "      <td>0.05263</td>\n",
       "      <td>0.04362</td>\n",
       "      <td>0.00000</td>\n",
       "      <td>0.00000</td>\n",
       "      <td>0.1587</td>\n",
       "      <td>0.05884</td>\n",
       "      <td>...</td>\n",
       "      <td>30.37</td>\n",
       "      <td>59.16</td>\n",
       "      <td>268.6</td>\n",
       "      <td>0.08996</td>\n",
       "      <td>0.06444</td>\n",
       "      <td>0.0000</td>\n",
       "      <td>0.0000</td>\n",
       "      <td>0.2871</td>\n",
       "      <td>0.07039</td>\n",
       "      <td>1.0</td>\n",
       "    </tr>\n",
       "  </tbody>\n",
       "</table>\n",
       "<p>569 rows × 31 columns</p>\n",
       "</div>"
      ],
      "text/plain": [
       "     mean radius  mean texture  mean perimeter  mean area  mean smoothness  \\\n",
       "0          17.99         10.38          122.80     1001.0          0.11840   \n",
       "1          20.57         17.77          132.90     1326.0          0.08474   \n",
       "2          19.69         21.25          130.00     1203.0          0.10960   \n",
       "3          11.42         20.38           77.58      386.1          0.14250   \n",
       "4          20.29         14.34          135.10     1297.0          0.10030   \n",
       "..           ...           ...             ...        ...              ...   \n",
       "564        21.56         22.39          142.00     1479.0          0.11100   \n",
       "565        20.13         28.25          131.20     1261.0          0.09780   \n",
       "566        16.60         28.08          108.30      858.1          0.08455   \n",
       "567        20.60         29.33          140.10     1265.0          0.11780   \n",
       "568         7.76         24.54           47.92      181.0          0.05263   \n",
       "\n",
       "     mean compactness  mean concavity  mean concave points  mean symmetry  \\\n",
       "0             0.27760         0.30010              0.14710         0.2419   \n",
       "1             0.07864         0.08690              0.07017         0.1812   \n",
       "2             0.15990         0.19740              0.12790         0.2069   \n",
       "3             0.28390         0.24140              0.10520         0.2597   \n",
       "4             0.13280         0.19800              0.10430         0.1809   \n",
       "..                ...             ...                  ...            ...   \n",
       "564           0.11590         0.24390              0.13890         0.1726   \n",
       "565           0.10340         0.14400              0.09791         0.1752   \n",
       "566           0.10230         0.09251              0.05302         0.1590   \n",
       "567           0.27700         0.35140              0.15200         0.2397   \n",
       "568           0.04362         0.00000              0.00000         0.1587   \n",
       "\n",
       "     mean fractal dimension  ...  worst texture  worst perimeter  worst area  \\\n",
       "0                   0.07871  ...          17.33           184.60      2019.0   \n",
       "1                   0.05667  ...          23.41           158.80      1956.0   \n",
       "2                   0.05999  ...          25.53           152.50      1709.0   \n",
       "3                   0.09744  ...          26.50            98.87       567.7   \n",
       "4                   0.05883  ...          16.67           152.20      1575.0   \n",
       "..                      ...  ...            ...              ...         ...   \n",
       "564                 0.05623  ...          26.40           166.10      2027.0   \n",
       "565                 0.05533  ...          38.25           155.00      1731.0   \n",
       "566                 0.05648  ...          34.12           126.70      1124.0   \n",
       "567                 0.07016  ...          39.42           184.60      1821.0   \n",
       "568                 0.05884  ...          30.37            59.16       268.6   \n",
       "\n",
       "     worst smoothness  worst compactness  worst concavity  \\\n",
       "0             0.16220            0.66560           0.7119   \n",
       "1             0.12380            0.18660           0.2416   \n",
       "2             0.14440            0.42450           0.4504   \n",
       "3             0.20980            0.86630           0.6869   \n",
       "4             0.13740            0.20500           0.4000   \n",
       "..                ...                ...              ...   \n",
       "564           0.14100            0.21130           0.4107   \n",
       "565           0.11660            0.19220           0.3215   \n",
       "566           0.11390            0.30940           0.3403   \n",
       "567           0.16500            0.86810           0.9387   \n",
       "568           0.08996            0.06444           0.0000   \n",
       "\n",
       "     worst concave points  worst symmetry  worst fractal dimension  target  \n",
       "0                  0.2654          0.4601                  0.11890     0.0  \n",
       "1                  0.1860          0.2750                  0.08902     0.0  \n",
       "2                  0.2430          0.3613                  0.08758     0.0  \n",
       "3                  0.2575          0.6638                  0.17300     0.0  \n",
       "4                  0.1625          0.2364                  0.07678     0.0  \n",
       "..                    ...             ...                      ...     ...  \n",
       "564                0.2216          0.2060                  0.07115     0.0  \n",
       "565                0.1628          0.2572                  0.06637     0.0  \n",
       "566                0.1418          0.2218                  0.07820     0.0  \n",
       "567                0.2650          0.4087                  0.12400     0.0  \n",
       "568                0.0000          0.2871                  0.07039     1.0  \n",
       "\n",
       "[569 rows x 31 columns]"
      ]
     },
     "execution_count": 4,
     "metadata": {},
     "output_type": "execute_result"
    }
   ],
   "source": [
    "def answer_one():\n",
    "    df = load_breast_cancer()\n",
    "    df = pd.DataFrame(np.c_[cancer['data'] ,cancer['target']],\n",
    "                      columns=np.append(cancer['feature_names'],['target']))\n",
    "    \n",
    "    \n",
    "    return df\n",
    "\n",
    "\n",
    "answer_one()"
   ]
  },
  {
   "cell_type": "code",
   "execution_count": 5,
   "id": "e74f76e3",
   "metadata": {
    "execution": {
     "iopub.execute_input": "2022-12-03T03:21:39.911411Z",
     "iopub.status.busy": "2022-12-03T03:21:39.910920Z",
     "iopub.status.idle": "2022-12-03T03:21:39.925224Z",
     "shell.execute_reply": "2022-12-03T03:21:39.924099Z"
    },
    "papermill": {
     "duration": 0.028089,
     "end_time": "2022-12-03T03:21:39.928115",
     "exception": false,
     "start_time": "2022-12-03T03:21:39.900026",
     "status": "completed"
    },
    "tags": []
   },
   "outputs": [],
   "source": [
    "df1=answer_one()\n",
    "assert df1.shape == (len(cancer.target), 31)"
   ]
  },
  {
   "cell_type": "markdown",
   "id": "db2f7d0f",
   "metadata": {
    "papermill": {
     "duration": 0.008846,
     "end_time": "2022-12-03T03:21:39.946261",
     "exception": false,
     "start_time": "2022-12-03T03:21:39.937415",
     "status": "completed"
    },
    "tags": []
   },
   "source": [
    "### Question 2\n",
    "What is the class distribution? (i.e. how many instances of `malignant` (encoded 0) and how many `benign` (encoded 1)?)\n",
    "\n",
    "*This function should return a Series named `target` of length 2 with integer values and index =* `['malignant', 'benign']`"
   ]
  },
  {
   "cell_type": "code",
   "execution_count": 6,
   "id": "9f5bb649",
   "metadata": {
    "execution": {
     "iopub.execute_input": "2022-12-03T03:21:39.966807Z",
     "iopub.status.busy": "2022-12-03T03:21:39.965813Z",
     "iopub.status.idle": "2022-12-03T03:21:39.995499Z",
     "shell.execute_reply": "2022-12-03T03:21:39.993979Z"
    },
    "papermill": {
     "duration": 0.042856,
     "end_time": "2022-12-03T03:21:39.998205",
     "exception": false,
     "start_time": "2022-12-03T03:21:39.955349",
     "status": "completed"
    },
    "tags": []
   },
   "outputs": [
    {
     "data": {
      "text/plain": [
       "malignannt    212\n",
       "benign        357\n",
       "Name: target, dtype: int64"
      ]
     },
     "execution_count": 6,
     "metadata": {},
     "output_type": "execute_result"
    }
   ],
   "source": [
    "def answer_two():\n",
    "    cancerdf = answer_one()\n",
    "    target=cancerdf.target.value_counts(ascending=True)\n",
    "    target = target.rename(index={0:'malignannt',1:'benign'})\n",
    "    \n",
    "    return target\n",
    "\n",
    "\n",
    "\n",
    "answer_two()\n",
    "\n"
   ]
  },
  {
   "cell_type": "code",
   "execution_count": 7,
   "id": "2821063e",
   "metadata": {
    "execution": {
     "iopub.execute_input": "2022-12-03T03:21:40.019437Z",
     "iopub.status.busy": "2022-12-03T03:21:40.018645Z",
     "iopub.status.idle": "2022-12-03T03:21:40.033833Z",
     "shell.execute_reply": "2022-12-03T03:21:40.032429Z"
    },
    "papermill": {
     "duration": 0.029173,
     "end_time": "2022-12-03T03:21:40.036737",
     "exception": false,
     "start_time": "2022-12-03T03:21:40.007564",
     "status": "completed"
    },
    "tags": []
   },
   "outputs": [],
   "source": [
    "length = answer_two()"
   ]
  },
  {
   "cell_type": "markdown",
   "id": "6700a077",
   "metadata": {
    "papermill": {
     "duration": 0.008799,
     "end_time": "2022-12-03T03:21:40.055261",
     "exception": false,
     "start_time": "2022-12-03T03:21:40.046462",
     "status": "completed"
    },
    "tags": []
   },
   "source": [
    "### Question 3\n",
    "Split the DataFrame into `X` (the data) and `y` (the labels).\n",
    "\n",
    "*This function should return a tuple of length 2:* `(X, y)`*, where* \n",
    "* `X`*, a pandas DataFrame, has shape* `(569, 30)`\n",
    "* `y`*, a pandas Series, has shape* `(569,)`."
   ]
  },
  {
   "cell_type": "code",
   "execution_count": 8,
   "id": "e207609a",
   "metadata": {
    "execution": {
     "iopub.execute_input": "2022-12-03T03:21:40.077870Z",
     "iopub.status.busy": "2022-12-03T03:21:40.076458Z",
     "iopub.status.idle": "2022-12-03T03:21:40.083943Z",
     "shell.execute_reply": "2022-12-03T03:21:40.082769Z"
    },
    "papermill": {
     "duration": 0.021754,
     "end_time": "2022-12-03T03:21:40.086665",
     "exception": false,
     "start_time": "2022-12-03T03:21:40.064911",
     "status": "completed"
    },
    "tags": []
   },
   "outputs": [],
   "source": [
    "def answer_three():\n",
    "    cancerdf = answer_one()\n",
    "    \n",
    "    X = cancerdf[cancerdf.columns[:-1]]\n",
    "    y = cancerdf.target\n",
    "    \n",
    "    return X, y"
   ]
  },
  {
   "cell_type": "code",
   "execution_count": 9,
   "id": "fd59aa1f",
   "metadata": {
    "execution": {
     "iopub.execute_input": "2022-12-03T03:21:40.107612Z",
     "iopub.status.busy": "2022-12-03T03:21:40.106780Z",
     "iopub.status.idle": "2022-12-03T03:21:40.124527Z",
     "shell.execute_reply": "2022-12-03T03:21:40.123058Z"
    },
    "papermill": {
     "duration": 0.031708,
     "end_time": "2022-12-03T03:21:40.127696",
     "exception": false,
     "start_time": "2022-12-03T03:21:40.095988",
     "status": "completed"
    },
    "tags": []
   },
   "outputs": [],
   "source": [
    "X,y = answer_three()"
   ]
  },
  {
   "cell_type": "markdown",
   "id": "53eef990",
   "metadata": {
    "papermill": {
     "duration": 0.008873,
     "end_time": "2022-12-03T03:21:40.146293",
     "exception": false,
     "start_time": "2022-12-03T03:21:40.137420",
     "status": "completed"
    },
    "tags": []
   },
   "source": [
    "### Question 4\n",
    "Using `train_test_split`, split `X` and `y` into training and test sets `(X_train, X_test, y_train, and y_test)`.\n",
    "\n",
    "**Set the random number generator state to 0 using `random_state=0` to make sure your results match the autograder!**\n",
    "\n",
    "*This function should return a tuple of length 4:* `(X_train, X_test, y_train, y_test)`*, where* \n",
    "* `X_train` *has shape* `(426, 30)`\n",
    "* `X_test` *has shape* `(143, 30)`\n",
    "* `y_train` *has shape* `(426,)`\n",
    "* `y_test` *has shape* `(143,)`"
   ]
  },
  {
   "cell_type": "code",
   "execution_count": 10,
   "id": "2c0f5396",
   "metadata": {
    "execution": {
     "iopub.execute_input": "2022-12-03T03:21:40.167337Z",
     "iopub.status.busy": "2022-12-03T03:21:40.166473Z",
     "iopub.status.idle": "2022-12-03T03:21:40.235249Z",
     "shell.execute_reply": "2022-12-03T03:21:40.233899Z"
    },
    "papermill": {
     "duration": 0.082545,
     "end_time": "2022-12-03T03:21:40.238225",
     "exception": false,
     "start_time": "2022-12-03T03:21:40.155680",
     "status": "completed"
    },
    "tags": []
   },
   "outputs": [],
   "source": [
    "from sklearn.model_selection import train_test_split\n",
    "\n",
    "def answer_four():\n",
    "    X, y = answer_three()\n",
    "    \n",
    "    X_train, X_test, y_train, y_test = train_test_split(X, y, train_size=426, test_size=143, random_state=0)\n",
    "    \n",
    "    return X_train, X_test, y_train, y_test"
   ]
  },
  {
   "cell_type": "code",
   "execution_count": 11,
   "id": "60b19a2c",
   "metadata": {
    "execution": {
     "iopub.execute_input": "2022-12-03T03:21:40.259842Z",
     "iopub.status.busy": "2022-12-03T03:21:40.258581Z",
     "iopub.status.idle": "2022-12-03T03:21:40.277093Z",
     "shell.execute_reply": "2022-12-03T03:21:40.275582Z"
    },
    "papermill": {
     "duration": 0.032544,
     "end_time": "2022-12-03T03:21:40.280094",
     "exception": false,
     "start_time": "2022-12-03T03:21:40.247550",
     "status": "completed"
    },
    "tags": []
   },
   "outputs": [],
   "source": [
    "x_train, x_test, y_train, y_test = answer_four()"
   ]
  },
  {
   "cell_type": "markdown",
   "id": "4bf5e8fd",
   "metadata": {
    "papermill": {
     "duration": 0.00883,
     "end_time": "2022-12-03T03:21:40.299452",
     "exception": false,
     "start_time": "2022-12-03T03:21:40.290622",
     "status": "completed"
    },
    "tags": []
   },
   "source": [
    "### Question 5\n",
    "Using KNeighborsClassifier, fit a k-nearest neighbors (knn) classifier with `X_train`, `y_train` and using one nearest neighbor (`n_neighbors = 1`).\n",
    "\n",
    "*This function should return a * `sklearn.neighbors.classification.KNeighborsClassifier`."
   ]
  },
  {
   "cell_type": "code",
   "execution_count": 12,
   "id": "50827645",
   "metadata": {
    "execution": {
     "iopub.execute_input": "2022-12-03T03:21:40.320579Z",
     "iopub.status.busy": "2022-12-03T03:21:40.319372Z",
     "iopub.status.idle": "2022-12-03T03:21:40.459361Z",
     "shell.execute_reply": "2022-12-03T03:21:40.458112Z"
    },
    "papermill": {
     "duration": 0.153498,
     "end_time": "2022-12-03T03:21:40.462316",
     "exception": false,
     "start_time": "2022-12-03T03:21:40.308818",
     "status": "completed"
    },
    "tags": []
   },
   "outputs": [],
   "source": [
    "from sklearn.neighbors import KNeighborsClassifier\n",
    "\n",
    "def answer_five():\n",
    "    X_train, X_test, y_train, y_test = answer_four()\n",
    "    knn = KNeighborsClassifier(n_neighbors = 1)\n",
    "    knn.fit(X_train, y_train)\n",
    "\n",
    "    \n",
    "    return knn"
   ]
  },
  {
   "cell_type": "code",
   "execution_count": 13,
   "id": "8a75f339",
   "metadata": {
    "execution": {
     "iopub.execute_input": "2022-12-03T03:21:40.483106Z",
     "iopub.status.busy": "2022-12-03T03:21:40.482611Z",
     "iopub.status.idle": "2022-12-03T03:21:40.501258Z",
     "shell.execute_reply": "2022-12-03T03:21:40.500052Z"
    },
    "papermill": {
     "duration": 0.032352,
     "end_time": "2022-12-03T03:21:40.504112",
     "exception": false,
     "start_time": "2022-12-03T03:21:40.471760",
     "status": "completed"
    },
    "tags": []
   },
   "outputs": [],
   "source": [
    "knn = answer_five()"
   ]
  },
  {
   "cell_type": "markdown",
   "id": "3463bcb7",
   "metadata": {
    "papermill": {
     "duration": 0.009959,
     "end_time": "2022-12-03T03:21:40.523496",
     "exception": false,
     "start_time": "2022-12-03T03:21:40.513537",
     "status": "completed"
    },
    "tags": []
   },
   "source": [
    "### Question 6\n",
    "Using your knn classifier, predict the class label using the mean value for each feature.\n",
    "\n",
    "Hint: You can use `cancerdf.mean()[:-1].values.reshape(1, -1)` which gets the mean value for each feature, ignores the target column, and reshapes the data from 1 dimension to 2 (necessary for the precict method of KNeighborsClassifier).\n",
    "\n",
    "*This function should return a numpy array either `array([ 0.])` or `array([ 1.])`*"
   ]
  },
  {
   "cell_type": "code",
   "execution_count": 14,
   "id": "82f239e2",
   "metadata": {
    "execution": {
     "iopub.execute_input": "2022-12-03T03:21:40.544865Z",
     "iopub.status.busy": "2022-12-03T03:21:40.544340Z",
     "iopub.status.idle": "2022-12-03T03:21:40.550722Z",
     "shell.execute_reply": "2022-12-03T03:21:40.549676Z"
    },
    "papermill": {
     "duration": 0.019922,
     "end_time": "2022-12-03T03:21:40.553047",
     "exception": false,
     "start_time": "2022-12-03T03:21:40.533125",
     "status": "completed"
    },
    "tags": []
   },
   "outputs": [],
   "source": [
    "def answer_six():\n",
    "    cancerdf = answer_one()\n",
    "    means = cancerdf.mean()[:-1].values.reshape(1, -1)\n",
    "    knn = answer_five()\n",
    "    \n",
    "    \n",
    "    \n",
    "    return knn.predict(means)"
   ]
  },
  {
   "cell_type": "code",
   "execution_count": 15,
   "id": "e9715deb",
   "metadata": {
    "execution": {
     "iopub.execute_input": "2022-12-03T03:21:40.573718Z",
     "iopub.status.busy": "2022-12-03T03:21:40.573185Z",
     "iopub.status.idle": "2022-12-03T03:21:40.614295Z",
     "shell.execute_reply": "2022-12-03T03:21:40.612700Z"
    },
    "papermill": {
     "duration": 0.06052,
     "end_time": "2022-12-03T03:21:40.622804",
     "exception": false,
     "start_time": "2022-12-03T03:21:40.562284",
     "status": "completed"
    },
    "tags": []
   },
   "outputs": [
    {
     "name": "stderr",
     "output_type": "stream",
     "text": [
      "/opt/conda/lib/python3.7/site-packages/sklearn/base.py:451: UserWarning: X does not have valid feature names, but KNeighborsClassifier was fitted with feature names\n",
      "  \"X does not have valid feature names, but\"\n"
     ]
    },
    {
     "data": {
      "text/plain": [
       "array([1.])"
      ]
     },
     "execution_count": 15,
     "metadata": {},
     "output_type": "execute_result"
    }
   ],
   "source": [
    "answer_six()"
   ]
  },
  {
   "cell_type": "markdown",
   "id": "0f89b1fe",
   "metadata": {
    "papermill": {
     "duration": 0.023033,
     "end_time": "2022-12-03T03:21:40.669499",
     "exception": false,
     "start_time": "2022-12-03T03:21:40.646466",
     "status": "completed"
    },
    "tags": []
   },
   "source": [
    "### Question 7\n",
    "Using your knn classifier, predict the class labels for the test set `X_test`.\n",
    "\n",
    "*This function should return a numpy array with shape `(143,)` and values either `0.0` or `1.0`.*"
   ]
  },
  {
   "cell_type": "code",
   "execution_count": 16,
   "id": "53daf4be",
   "metadata": {
    "execution": {
     "iopub.execute_input": "2022-12-03T03:21:40.720044Z",
     "iopub.status.busy": "2022-12-03T03:21:40.719139Z",
     "iopub.status.idle": "2022-12-03T03:21:40.727692Z",
     "shell.execute_reply": "2022-12-03T03:21:40.726698Z"
    },
    "papermill": {
     "duration": 0.037097,
     "end_time": "2022-12-03T03:21:40.730398",
     "exception": false,
     "start_time": "2022-12-03T03:21:40.693301",
     "status": "completed"
    },
    "tags": []
   },
   "outputs": [],
   "source": [
    "def answer_seven():\n",
    "    X_train, X_test, y_train, y_test = answer_four()\n",
    "    knn = answer_five()\n",
    "    \n",
    "    return knn.predict(X_test)\n"
   ]
  },
  {
   "cell_type": "code",
   "execution_count": 17,
   "id": "3b0f9bd4",
   "metadata": {
    "execution": {
     "iopub.execute_input": "2022-12-03T03:21:40.752501Z",
     "iopub.status.busy": "2022-12-03T03:21:40.751562Z",
     "iopub.status.idle": "2022-12-03T03:21:40.796350Z",
     "shell.execute_reply": "2022-12-03T03:21:40.794556Z"
    },
    "papermill": {
     "duration": 0.061368,
     "end_time": "2022-12-03T03:21:40.801026",
     "exception": false,
     "start_time": "2022-12-03T03:21:40.739658",
     "status": "completed"
    },
    "tags": []
   },
   "outputs": [],
   "source": [
    "predictions = answer_seven()"
   ]
  },
  {
   "cell_type": "markdown",
   "id": "2d45c833",
   "metadata": {
    "papermill": {
     "duration": 0.02224,
     "end_time": "2022-12-03T03:21:40.846065",
     "exception": false,
     "start_time": "2022-12-03T03:21:40.823825",
     "status": "completed"
    },
    "tags": []
   },
   "source": [
    "### Question 8\n",
    "Find the score (mean accuracy) of your knn classifier using `X_test` and `y_test`.\n",
    "\n",
    "*This function should return a float between 0 and 1*"
   ]
  },
  {
   "cell_type": "code",
   "execution_count": 18,
   "id": "d8b833c1",
   "metadata": {
    "execution": {
     "iopub.execute_input": "2022-12-03T03:21:40.894832Z",
     "iopub.status.busy": "2022-12-03T03:21:40.894034Z",
     "iopub.status.idle": "2022-12-03T03:21:40.903494Z",
     "shell.execute_reply": "2022-12-03T03:21:40.902341Z"
    },
    "papermill": {
     "duration": 0.03688,
     "end_time": "2022-12-03T03:21:40.905936",
     "exception": false,
     "start_time": "2022-12-03T03:21:40.869056",
     "status": "completed"
    },
    "tags": []
   },
   "outputs": [],
   "source": [
    "def answer_eight():\n",
    "    X_train, X_test, y_train, y_test = answer_four()\n",
    "    knn = answer_five()\n",
    "    \n",
    "   \n",
    "    \n",
    "    return knn.score(X_test, y_test)"
   ]
  },
  {
   "cell_type": "code",
   "execution_count": 19,
   "id": "a85e5299",
   "metadata": {
    "execution": {
     "iopub.execute_input": "2022-12-03T03:21:40.926710Z",
     "iopub.status.busy": "2022-12-03T03:21:40.926211Z",
     "iopub.status.idle": "2022-12-03T03:21:40.972210Z",
     "shell.execute_reply": "2022-12-03T03:21:40.970704Z"
    },
    "papermill": {
     "duration": 0.060506,
     "end_time": "2022-12-03T03:21:40.975797",
     "exception": false,
     "start_time": "2022-12-03T03:21:40.915291",
     "status": "completed"
    },
    "tags": []
   },
   "outputs": [
    {
     "data": {
      "text/plain": [
       "0.916083916083916"
      ]
     },
     "execution_count": 19,
     "metadata": {},
     "output_type": "execute_result"
    }
   ],
   "source": [
    "answer_eight()"
   ]
  },
  {
   "cell_type": "markdown",
   "id": "85c280de",
   "metadata": {
    "papermill": {
     "duration": 0.023309,
     "end_time": "2022-12-03T03:21:41.023178",
     "exception": false,
     "start_time": "2022-12-03T03:21:40.999869",
     "status": "completed"
    },
    "tags": []
   },
   "source": [
    "### Optional plot\n",
    "\n",
    "Try using the plotting function below to visualize the differet predicition scores between training and test sets, as well as malignant and benign cells."
   ]
  },
  {
   "cell_type": "code",
   "execution_count": 20,
   "id": "4f9f07c2",
   "metadata": {
    "execution": {
     "iopub.execute_input": "2022-12-03T03:21:41.073820Z",
     "iopub.status.busy": "2022-12-03T03:21:41.072961Z",
     "iopub.status.idle": "2022-12-03T03:21:41.097055Z",
     "shell.execute_reply": "2022-12-03T03:21:41.095844Z"
    },
    "papermill": {
     "duration": 0.052679,
     "end_time": "2022-12-03T03:21:41.100017",
     "exception": false,
     "start_time": "2022-12-03T03:21:41.047338",
     "status": "completed"
    },
    "tags": []
   },
   "outputs": [],
   "source": [
    "def accuracy_plot():\n",
    "    import matplotlib.pyplot as plt\n",
    "\n",
    "    %matplotlib notebook\n",
    "    %matplotlib inline\n",
    "\n",
    "    X_train, X_test, y_train, y_test = answer_four()\n",
    "\n",
    "    # Find the training and testing accuracies by target value (i.e. malignant, benign)\n",
    "    mal_train_X = X_train[y_train==0]\n",
    "    mal_train_y = y_train[y_train==0]\n",
    "    ben_train_X = X_train[y_train==1]\n",
    "    ben_train_y = y_train[y_train==1]\n",
    "\n",
    "    mal_test_X = X_test[y_test==0]\n",
    "    mal_test_y = y_test[y_test==0]\n",
    "    ben_test_X = X_test[y_test==1]\n",
    "    ben_test_y = y_test[y_test==1]\n",
    "\n",
    "    knn = answer_five()\n",
    "\n",
    "    scores = [knn.score(mal_train_X, mal_train_y), knn.score(ben_train_X, ben_train_y), \n",
    "              knn.score(mal_test_X, mal_test_y), knn.score(ben_test_X, ben_test_y)]\n",
    "\n",
    "\n",
    "    plt.figure()\n",
    "\n",
    "    # Plot the scores as a bar chart\n",
    "    bars = plt.bar(np.arange(4), scores, color=['#4c72b0','#4c72b0','#55a868','#55a868'])\n",
    "\n",
    "    # directly label the score onto the bars\n",
    "    for bar in bars:\n",
    "        height = bar.get_height()\n",
    "        plt.gca().text(bar.get_x() + bar.get_width()/2, height*.90, '{0:.{1}f}'.format(height, 2), \n",
    "                     ha='center', color='w', fontsize=11)\n",
    "\n",
    "    # remove all the ticks (both axes), and tick labels on the Y axis\n",
    "    plt.tick_params(top='off', bottom='off', left='off', right='off', labelleft='off', labelbottom='on')\n",
    "\n",
    "    # remove the frame of the chart\n",
    "    for spine in plt.gca().spines.values():\n",
    "        spine.set_visible(False)\n",
    "\n",
    "    plt.xticks([0,1,2,3], ['Malignant\\nTraining', 'Benign\\nTraining', 'Malignant\\nTest', 'Benign\\nTest'], alpha=0.8);\n",
    "    plt.title('Training and Test Accuracies for Malignant and Benign Cells', alpha=0.8)"
   ]
  },
  {
   "cell_type": "markdown",
   "id": "bdb66833",
   "metadata": {
    "papermill": {
     "duration": 0.008969,
     "end_time": "2022-12-03T03:21:41.118905",
     "exception": false,
     "start_time": "2022-12-03T03:21:41.109936",
     "status": "completed"
    },
    "tags": []
   },
   "source": [
    "Uncomment the plotting function to see the visualization.\n",
    "\n",
    "**Comment out** the plotting function when submitting your notebook for grading. "
   ]
  },
  {
   "cell_type": "code",
   "execution_count": 21,
   "id": "6e4cbcfc",
   "metadata": {
    "execution": {
     "iopub.execute_input": "2022-12-03T03:21:41.140018Z",
     "iopub.status.busy": "2022-12-03T03:21:41.139074Z",
     "iopub.status.idle": "2022-12-03T03:21:41.572777Z",
     "shell.execute_reply": "2022-12-03T03:21:41.571451Z"
    },
    "papermill": {
     "duration": 0.447288,
     "end_time": "2022-12-03T03:21:41.575481",
     "exception": false,
     "start_time": "2022-12-03T03:21:41.128193",
     "status": "completed"
    },
    "tags": []
   },
   "outputs": [
    {
     "data": {
      "image/png": "[encoded data removed]",
      "text/plain": [
       "<Figure size 432x288 with 1 Axes>"
      ]
     },
     "metadata": {
      "needs_background": "light"
     },
     "output_type": "display_data"
    }
   ],
   "source": [
    "%matplotlib inline\n",
    "accuracy_plot() "
   ]
  },
  {
   "cell_type": "code",
   "execution_count": null,
   "id": "1c7e7a1a",
   "metadata": {
    "collapsed": true,
    "jupyter": {
     "outputs_hidden": true
    },
    "papermill": {
     "duration": 0.009238,
     "end_time": "2022-12-03T03:21:41.594403",
     "exception": false,
     "start_time": "2022-12-03T03:21:41.585165",
     "status": "completed"
    },
    "tags": []
   },
   "outputs": [],
   "source": []
  }
 ],
 "metadata": {
  "kernelspec": {
   "display_name": "Python 3",
   "language": "python",
   "name": "python3"
  },
  "language_info": {
   "codemirror_mode": {
    "name": "ipython",
    "version": 3
   },
   "file_extension": ".py",
   "mimetype": "text/x-python",
   "name": "python",
   "nbconvert_exporter": "python",
   "pygments_lexer": "ipython3",
   "version": "3.7.12"
  },
  "papermill": {
   "default_parameters": {},
   "duration": 15.622132,
   "end_time": "2022-12-03T03:21:42.629481",
   "environment_variables": {},
   "exception": null,
   "input_path": "__notebook__.ipynb",
   "output_path": "__notebook__.ipynb",
   "parameters": {},
   "start_time": "2022-12-03T03:21:27.007349",
   "version": "2.3.4"
  }
 },
 "nbformat": 4,
 "nbformat_minor": 5
}
