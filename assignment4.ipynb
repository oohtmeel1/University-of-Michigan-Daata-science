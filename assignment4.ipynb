{
 "cells": [
  {
   "cell_type": "markdown",
   "metadata": {
    "deletable": false,
    "editable": false,
    "nbgrader": {
     "checksum": "48770f8b5f5d3062d3badd51fcafc401",
     "grade": false,
     "grade_id": "cell-a6c4f74309fc2379",
     "locked": true,
     "schema_version": 1,
     "solution": false
    }
   },
   "source": [
    "# Assignment 4\n",
    "## Description\n",
    "In this assignment you must read in a file of metropolitan regions and associated sports teams from [assets/wikipedia_data.html](assets/wikipedia_data.html) and answer some questions about each metropolitan region. Each of these regions may have one or more teams from the \"Big 4\": NFL (football, in [assets/nfl.csv](assets/nfl.csv)), MLB (baseball, in [assets/mlb.csv](assets/mlb.csv)), NBA (basketball, in [assets/nba.csv](assets/nba.csv) or NHL (hockey, in [assets/nhl.csv](assets/nhl.csv)). Please keep in mind that all questions are from the perspective of the metropolitan region, and that this file is the \"source of authority\" for the location of a given sports team. Thus teams which are commonly known by a different area (e.g. \"Oakland Raiders\") need to be mapped into the metropolitan region given (e.g. San Francisco Bay Area). This will require some human data understanding outside of the data you've been given (e.g. you will have to hand-code some names, and might need to google to find out where teams are)!\n",
    "\n",
    "For each sport I would like you to answer the question: **what is the win/loss ratio's correlation with the population of the city it is in?**```Win/Loss ratio refers to the number of wins over the number of wins plus the number of losses```. Remember that to calculate the correlation with [`pearsonr`](https://docs.scipy.org/doc/scipy/reference/generated/scipy.stats.pearsonr.html), so you are going to send in two ordered lists of values, the populations from the wikipedia_data.html file and the win/loss ratio for a given sport in the same order. Average the win/loss ratios for those cities which have multiple teams of a single sport. Each sport is worth an equal amount in this assignment (20%\\*4=80%) of the grade for this assignment. You should only use data **from year 2018** for your analysis -- this is important!\n",
    "\n",
    "## Notes\n",
    "\n",
    "1. Do not include data about the MLS or CFL in any of the work you are doing, we're only interested in the Big 4 in this assignment.\n",
    "2. I highly suggest that you first tackle the four correlation questions in order, as they are all similar and worth the majority of grades for this assignment. This is by design!\n",
    "3. It's fair game to talk with peers about high level strategy as well as the relationship between metropolitan areas and sports teams. However, do not post code solving aspects of the assignment (including such as dictionaries mapping areas to teams, or regexes which will clean up names).\n",
    "4. There may be more teams than the assert statements test, remember to collapse multiple teams in one city into a single value!"
   ]
  },
  {
   "cell_type": "markdown",
   "metadata": {
    "deletable": false,
    "editable": false,
    "nbgrader": {
     "checksum": "369ff9ecf0ee04640574205cbc697f94",
     "grade": false,
     "grade_id": "cell-712b2b5da63d4505",
     "locked": true,
     "schema_version": 1,
     "solution": false
    }
   },
   "source": [
    "## Question 1\n",
    "For this question, calculate the win/loss ratio's correlation with the population of the city it is in for the **NHL** using **2018** data."
   ]
  },
  {
   "cell_type": "code",
   "execution_count": 80,
   "metadata": {
    "deletable": false,
    "nbgrader": {
     "checksum": "1cac4803b02502929f5b1612d48db2b5",
     "grade": false,
     "grade_id": "cell-69b16e4386e58030",
     "locked": false,
     "schema_version": 1,
     "solution": true
    }
   },
   "outputs": [],
   "source": [
    "import pandas as pd\n",
    "import numpy as np\n",
    "import scipy.stats as stats\n",
    "import re\n",
    "from io import StringIO\n",
    "\n",
    "nhl_df=pd.read_csv(\"assets/nhl.csv\", usecols=[\"team\",\"year\",\"W\",\"L\"])\n",
    "cities=pd.read_html(\"assets/wikipedia_data.html\")[1]\n",
    "cities=cities.iloc[:-1,[0,3,5,6,7,8]]\n",
    "import pandas as pd\n",
    "import numpy as np\n",
    "import scipy.stats as stats\n",
    "import re\n",
    "from io import StringIO\n",
    "\n",
    "nhl_df=pd.read_csv(\"assets/nhl.csv\", usecols=[\"team\",\"year\",\"W\",\"L\"])\n",
    "cities=pd.read_html(\"assets/wikipedia_data.html\")[1]\n",
    "cities=cities.iloc[:-1,[0,3,5,6,7,8]]\n",
    "\n",
    "# Setting years for regular nhl file\n",
    "df = nhl_df[nhl_df['year']==2018]\n",
    "nhl_df = df\n",
    "\n",
    "#doing the replacing at the top for the Cities DF\n",
    "cities.replace({'RangersIslandersDevils[note 3]': 'New York Rangers,New York Islanders,New Jersey Devils', 'KingsDucks': 'Anaheim Ducks,Los Angeles Kings', \n",
    "                       'Sharks[note 7]': 'San Jose Sharks', 'Stars': 'Dallas Stars','Blackhawks':'Chicago Blackhawks',\n",
    "               'Capitals':'Washington Capitals','Flyers[note 13]':'Philadelphia Flyers','Bruins':'Boston Bruins',\n",
    "               'Wild[note 16]':'Minnesota Wild','Panthers':'Florida Panthers',\n",
    "               'Coyotes':'Arizona Coyotes','Red Wings':'Detroit Red Wings','Maple Leafs':'Toronto Maple Leafs',\n",
    "               'Penguins[note 28]':'Pittsburgh Penguins','Blues[note 43]':'St. Louis Blues','Predators':'Nashville Predators',\n",
    "               'Sabres':'Buffalo Sabres','Canadiens':'Montreal Canadiens','Canucks':'Vancouver Canucks','Blue Jackets':'Columbus Blue Jackets',\n",
    "               'Flames':'Calgary Flames','Senators':'Ottawa Senators','Oilers':'Edmonton Oilers','Jets[note 61]':'Winnipeg Jets',\n",
    "               'Golden Knights':'Vegas Golden Knights','Hurricanes':'Carolina Hurricanes','Lightning':'Tampa Bay Lightning','Denver':'Colorado','Avalanche[note 18]':'Colorado Avalanche'}, ## Added denver Colorado\n",
    "                inplace=True)\n",
    "#Splitting cities by teams. \n",
    "cities.head(60)\n",
    "cities[\"NHL\"] = cities[\"NHL\"].apply(lambda x: x.split(\",\"))\n",
    "cities = cities.explode(\"NHL\")\n",
    "\n",
    "\n",
    "\n",
    "## Dropping all * from nhl_df\n",
    "nhl_df.replace({ 'Anaheim Ducks*': 'Anaheim Ducks', 'San Jose Sharks*': 'San Jose Sharks',\n",
    "               'Washington Capitals*':'Washington Capitals','Philadelphia Flyers*':'Philadelphia Flyers','Boston Bruins*':'Boston Bruins',\n",
    "               'Minnesota Wild*':'Minnesota Wild','Colorado Avalanche*':'Colorado Avalanche',\n",
    "               'Toronto Maple Leafs*':'Toronto Maple Leafs',\"Los Angeles Kings*\":\"Los Angeles Kings\",\n",
    "               'Pittsburgh Penguins*':'Pittsburgh Penguins','Nashville Predators*':'Nashville Predators',\n",
    "               'Columbus Blue Jackets*':'Columbus Blue Jackets',\n",
    "               'Winnipeg Jets*':'Winnipeg Jets','Tampa Bay Lightning*':'Tampa Bay Lightning',\n",
    "               'Vegas Golden Knights*':'Vegas Golden Knights','New Jersey Devils*':'New Jersey Devils'},\n",
    "                inplace=True)\n",
    "nhl_df.head(50)\n",
    "\n",
    "\n",
    "\n",
    "## Filtered out division names\n",
    "def filter_rows_by_values(df, col, values):\n",
    "    return nhl_df[~nhl_df[col].isin(values)]\n",
    "abc = filter_rows_by_values(nhl_df,\"team\",[\"Atlantic Division\",\"Metropolitan Division\",\"Central Division\",\"Pacific Division\"])\n",
    "abc\n",
    "\n",
    "# Now to set back the df to be nhl_df\n",
    "nhl_df = abc\n",
    "nhl_df\n",
    "\n",
    "# Now time to merge the df\n",
    "df = pd.merge(cities, nhl_df, left_on=\"NHL\", right_on=\"team\")\n",
    "\n",
    "# Time to do some math\n",
    "df['W'] = pd.to_numeric(df['W'])\n",
    "df['L'] = pd.to_numeric(df['L'])\n",
    "df['SUM'] = df[['W','L']].dot([1,1])\n",
    "df['Ratio'] = df['W']/df['SUM']\n",
    "# Now there are 30 and there need to be 28\n",
    "\n",
    "# Take away the ~ and the df returns what you want\n",
    "def filter_rows_by_values(df, col, values):\n",
    "    return df[df[col].isin(values)]\n",
    "ab = filter_rows_by_values(df,\"Metropolitan area\",[\"New York City\"])\n",
    "ab\n",
    "\n",
    "# Now to get the mean of ratio\n",
    "results = ab[\"Ratio\"].mean()\n",
    "results\n",
    "\n",
    "# Let's see if df[loc helps]\n",
    "df.loc[df[\"Metropolitan area\"] == \"New York City\", \"Ratio\"] = results\n",
    "\n",
    "# Los angeles data\n",
    "def filter_rows_by_values(df, col, values):\n",
    "    return df[df[col].isin(values)]\n",
    "ac = filter_rows_by_values(df,\"Metropolitan area\",[\"Los Angeles\"])\n",
    "ac\n",
    "\n",
    "results = ac[\"Ratio\"].mean()\n",
    "results\n",
    "\n",
    "#Los Angeles plugging it back in\n",
    "df.loc[df[\"Metropolitan area\"] == \"Los Angeles\", \"Ratio\"] = results\n",
    "\n",
    "# Now to drop duplicates\n",
    "df = df.drop_duplicates(subset=\"Metropolitan area\").reset_index()\n",
    "df = df.drop(columns=\"index\")\n",
    "\n",
    "#Apperently everything needs to be integers\n",
    "\n",
    "df['year'] = pd.to_numeric(df['year'])\n",
    "df['Population (2016 est.)[8]'] = pd.to_numeric(df['Population (2016 est.)[8]'])\n",
    "\n",
    "\n",
    "\n",
    "def nhl_correlation(): \n",
    "    # YOUR CODE HERE\n",
    "    \n",
    "    \n",
    "    population_by_region = df[\"Population (2016 est.)[8]\"] # pass in metropolitan area population from cities\n",
    "    win_loss_by_region = df[\"Ratio\"] # pass in win/loss ratio from nhl_df in the same order as cities[\"Metropolitan area\"]\n",
    "\n",
    "    assert len(population_by_region) == len(win_loss_by_region), \"Q1: Your lists must be the same length\"\n",
    "    assert len(population_by_region) == 28, \"Q1: There should be 28 teams being analysed for NHL\"\n",
    "    \n",
    "    return stats.pearsonr(population_by_region, win_loss_by_region)[0]\n",
    "    \n",
    "    return result[0]\n",
    "\n",
    "\n"
   ]
  },
  {
   "cell_type": "code",
   "execution_count": 81,
   "metadata": {
    "deletable": false,
    "editable": false,
    "nbgrader": {
     "checksum": "52a581df513c71153e105b93764cda4b",
     "grade": true,
     "grade_id": "cell-ebe0b2dfe1067e63",
     "locked": true,
     "points": 20,
     "schema_version": 1,
     "solution": false
    }
   },
   "outputs": [
    {
     "name": "stdout",
     "output_type": "stream",
     "text": [
      "<class 'pandas.core.frame.DataFrame'>\n",
      "Int64Index: 31 entries, 1 to 34\n",
      "Data columns (total 4 columns):\n",
      "team    31 non-null object\n",
      "W       31 non-null object\n",
      "L       31 non-null object\n",
      "year    31 non-null int64\n",
      "dtypes: int64(1), object(3)\n",
      "memory usage: 1.2+ KB\n"
     ]
    }
   ],
   "source": [
    "nhl_df.info()\n"
   ]
  },
  {
   "cell_type": "code",
   "execution_count": null,
   "metadata": {},
   "outputs": [],
   "source": []
  },
  {
   "cell_type": "code",
   "execution_count": null,
   "metadata": {},
   "outputs": [],
   "source": []
  },
  {
   "cell_type": "code",
   "execution_count": 82,
   "metadata": {},
   "outputs": [
    {
     "data": {
      "text/plain": [
       "0.012486162921209912"
      ]
     },
     "execution_count": 82,
     "metadata": {},
     "output_type": "execute_result"
    }
   ],
   "source": [
    "nhl_correlation()"
   ]
  },
  {
   "cell_type": "markdown",
   "metadata": {
    "deletable": false,
    "editable": false,
    "nbgrader": {
     "checksum": "988912cae4968d81473f46d783e79c16",
     "grade": false,
     "grade_id": "cell-cb964e690298b71d",
     "locked": true,
     "schema_version": 1,
     "solution": false
    }
   },
   "source": [
    "## Question 2\n",
    "For this question, calculate the win/loss ratio's correlation with the population of the city it is in for the **NBA** using **2018** data."
   ]
  },
  {
   "cell_type": "code",
   "execution_count": 83,
   "metadata": {
    "deletable": false,
    "nbgrader": {
     "checksum": "9394222aafc8ccab0a228098ba0d6010",
     "grade": false,
     "grade_id": "cell-5a5f21279e3d3572",
     "locked": false,
     "schema_version": 1,
     "solution": true
    }
   },
   "outputs": [],
   "source": [
    "import pandas as pd\n",
    "import numpy as np\n",
    "import scipy.stats as stats\n",
    "import re\n",
    "\n",
    "nba_df=pd.read_csv(\"assets/nba.csv\")\n",
    "cities=pd.read_html(\"assets/wikipedia_data.html\")[1]\n",
    "cities=cities.iloc[:-1,[0,3,5,6,7,8]]\n",
    "\n",
    "#Sort by 2018\n",
    "df = nba_df[nba_df['year']==2018]\n",
    "nba_df = df\n",
    "#doing the replacing at the top for nba df\n",
    "# Replacing everything at the end             \n",
    "nba_df[\"team\"] = nba_df[\"team\"].str.replace(r\"(\\*)*\\s\\(\\d+\\)\", \"\")\n",
    "nba_df\n",
    "\n",
    "#Replacing stuff in cities \n",
    "cities[\"NBA\"] = cities[\"NBA\"].str.replace(r\"(\\*)*\\s\\(\\d+\\)\", \"\")\n",
    "cities\n",
    "\n",
    "#Replacing some values in NBA DF\n",
    "cities.replace({'KnicksNets':'New York Knicks,Brooklyn Nets',\n",
    "               'LakersClippers':'Los Angeles Clippers,Los Angeles Lakers','Raptors[note 23]':'Toronto Raptors','Celtics':'Boston Celtics',\n",
    "               '76ers':'Philadelphia 76ers',' Cavaliers[note 31]':'Cleveland Cavaliers','Pacers[note 51]':'Indiana Pacers',\n",
    "               'Heat':'Miami Heat','Bucks':'Milwaukee Bucks','Wizards[note 11]':'Washington Wizards','Pistons[note 21]':'Detroit Pistons',\n",
    "               'Hornets[note 49]':'Charlotte Hornets','Warriors':'Golden State Warriors','Bulls[note 9]':'Chicago Bulls','Mavericks':'Dallas Mavericks',\n",
    "               'Nuggets[note 17]':'Denver Nuggets','Suns':'Phoenix Suns','Rockets':'Houston Rockets','Hawks':'Atlanta Hawks',\n",
    "               'Cavaliers[note 31]':'Cleveland Cavaliers','Pelicans[note 55]':'New Orleans Pelicans','Magic':'Orlando Magic','Jazz':'Utah Jazz',\n",
    "               'Spurs':'San Antonio Spurs','Kings':'Sacramento Kings','Grizzlies':'Memphis Grizzlies','Trail Blazers':'Portland Trail Blazers',\n",
    "               'Thunder[note 68]':'Oklahoma City Thunder','Timberwolves':'Minnesota Timberwolves'}, \n",
    "                inplace=True)\n",
    "\n",
    "#NBA replacing\n",
    "cities[\"NBA\"] = cities[\"NBA\"].apply(lambda x: x.split(\",\"))\n",
    "cities = cities.explode(\"NBA\")\n",
    "\n",
    "#Merging Dataframes:\n",
    "df = pd.merge(cities, nba_df, left_on=\"NBA\", right_on=\"team\")\n",
    "\n",
    "# Time to do some math\n",
    "df['W'] = pd.to_numeric(df['W'])\n",
    "df['L'] = pd.to_numeric(df['L'])\n",
    "df['SUM'] = df[['W','L']].dot([1,1])\n",
    "df['Ratio'] = df['W']/df['SUM']\n",
    "\n",
    "def filter_rows_by_values(df, col, values):\n",
    "    return df[df[col].isin(values)]\n",
    "ab = filter_rows_by_values(df,\"Metropolitan area\",[\"New York City\"])\n",
    "ab\n",
    "\n",
    "# Now to get the mean of ratio\n",
    "results = ab[\"Ratio\"].mean()\n",
    "results\n",
    "\n",
    "# Let's see if df[loc helps]\n",
    "df.loc[df[\"Metropolitan area\"] == \"New York City\", \"Ratio\"] = results\n",
    "\n",
    "# Los angeles data\n",
    "def filter_rows_by_values(df, col, values):\n",
    "    return df[df[col].isin(values)]\n",
    "ac = filter_rows_by_values(df,\"Metropolitan area\",[\"Los Angeles\"])\n",
    "ac\n",
    "\n",
    "results = ac[\"Ratio\"].mean()\n",
    "results\n",
    "#Los Angeles plugging it back in\n",
    "df.loc[df[\"Metropolitan area\"] == \"Los Angeles\", \"Ratio\"] = results\n",
    "\n",
    "# Now to drop duplicates\n",
    "df = df.drop_duplicates(subset=\"Metropolitan area\").reset_index()\n",
    "df = df.drop(columns=\"index\")\n",
    "\n",
    "#Apperently everything needs to be integers\n",
    "\n",
    "df['year'] = pd.to_numeric(df['year'])\n",
    "df['Population (2016 est.)[8]'] = pd.to_numeric(df['Population (2016 est.)[8]'])\n",
    "\n",
    "\n",
    "def nba_correlation():\n",
    "    # YOUR CODE HERE\n",
    "   \n",
    "    \n",
    "    population_by_region = df[\"Population (2016 est.)[8]\"] # pass in metropolitan area population from cities\n",
    "    win_loss_by_region = df[\"Ratio\"] # pass in win/loss ratio from nba_df in the same order as cities[\"Metropolitan area\"]\n",
    "\n",
    "    assert len(population_by_region) == len(win_loss_by_region), \"Q2: Your lists must be the same length\"\n",
    "    assert len(population_by_region) == 28, \"Q2: There should be 28 teams being analysed for NBA\"\n",
    "\n",
    "    return stats.pearsonr(population_by_region, win_loss_by_region)[0]"
   ]
  },
  {
   "cell_type": "code",
   "execution_count": null,
   "metadata": {
    "deletable": false,
    "editable": false,
    "nbgrader": {
     "checksum": "bbdeb8eb22f525a34c10dc8798324e42",
     "grade": true,
     "grade_id": "cell-e573b2b4a282b470",
     "locked": true,
     "points": 20,
     "schema_version": 1,
     "solution": false
    }
   },
   "outputs": [],
   "source": []
  },
  {
   "cell_type": "code",
   "execution_count": null,
   "metadata": {},
   "outputs": [],
   "source": []
  },
  {
   "cell_type": "code",
   "execution_count": 84,
   "metadata": {},
   "outputs": [
    {
     "data": {
      "text/plain": [
       "-0.1765716025284462"
      ]
     },
     "execution_count": 84,
     "metadata": {},
     "output_type": "execute_result"
    }
   ],
   "source": [
    "nba_correlation()"
   ]
  },
  {
   "cell_type": "markdown",
   "metadata": {
    "deletable": false,
    "editable": false,
    "nbgrader": {
     "checksum": "1a1a5809f675ca033086422007cd73bd",
     "grade": false,
     "grade_id": "cell-96e15e4335df78f4",
     "locked": true,
     "schema_version": 1,
     "solution": false
    }
   },
   "source": [
    "## Question 3\n",
    "For this question, calculate the win/loss ratio's correlation with the population of the city it is in for the **MLB** using **2018** data."
   ]
  },
  {
   "cell_type": "code",
   "execution_count": 85,
   "metadata": {
    "deletable": false,
    "nbgrader": {
     "checksum": "27e8c0da6c9fa0dffc10488314335b6c",
     "grade": false,
     "grade_id": "cell-33b00fc3f3467b0c",
     "locked": false,
     "schema_version": 1,
     "solution": true
    }
   },
   "outputs": [],
   "source": [
    "import pandas as pd\n",
    "import numpy as np\n",
    "import scipy.stats as stats\n",
    "import re\n",
    "\n",
    "mlb_df=pd.read_csv(\"assets/mlb.csv\")\n",
    "cities=pd.read_html(\"assets/wikipedia_data.html\")[1]\n",
    "cities=cities.iloc[:-1,[0,3,5,6,7,8]]\n",
    "#Sort by 2018\n",
    "df = mlb_df[mlb_df['year']==2018]\n",
    "mlb_df = df\n",
    "#doing the replacing at the top for nba df\n",
    "# Replacing everything at the end             \n",
    "mlb_df[\"team\"] = mlb_df[\"team\"].str.replace(r\"(\\*)*\\s\\(\\d+\\)\", \"\")\n",
    "mlb_df\n",
    "\n",
    "#Replacing stuff in cities \n",
    "cities[\"MLB\"] = cities[\"MLB\"].str.replace(r\"(\\*)*\\s\\(\\d+\\)\", \"\")\n",
    "cities\n",
    "\n",
    "#Replacing some values in NBA DF\n",
    "cities.replace({'YankeesMets[note 2]':'New York Yankees,New York Mets','DodgersAngels':'Los Angeles Angels,Los Angeles Dodgers',\n",
    "               'GiantsAthletics':'San Francisco Giants,Oakland Athletics','CubsWhite Sox':'Chicago Cubs, Chicago White Sox',\n",
    "               'Rangers':'Texas Rangers','Nationals[note 10]':'Washington Nationals','Phillies[note 12]':'Philadelphia Phillies',\n",
    "               'Red Sox[note 15]':'Boston Red Sox','Twins':'Minnesota Twins','Rockies':'Colorado Rockies','Marlins':'Miami Marlins',\n",
    "               'Diamondbacks':'Arizona Diamondbacks','Tigers[note 20]':'Detroit Tigers','Blue Jays':'Toronto Blue Jays',\n",
    "               'Astros':'Houston Astros','Braves':'Atlanta Braves','Rays':'Tampa Bay Rays','Pirates':'Pittsburgh Pirates',\n",
    "               'Indians[note 30]':'Cleveland Indians','Mariners':'Seattle Mariners','Reds[note 35]':'Cincinnati Reds',\n",
    "               'Royals[note 37]':'Kansas City Royals','Cardinals[note 41]':'St. Louis Cardinals','Orioles[note 46]': 'Baltimore Orioles',\n",
    "               'Brewers[note 54]':'Milwaukee Brewers','Padres':'San Diego Padres'}, \n",
    "                inplace=True)\n",
    "\n",
    "#NBA replacing\n",
    "cities[\"MLB\"] = cities[\"MLB\"].apply(lambda x: x.split(\",\"))\n",
    "cities = cities.explode(\"MLB\")\n",
    "\n",
    "#Merging Dataframes:\n",
    "df = pd.merge(cities, mlb_df, left_on=\"MLB\", right_on=\"team\")\n",
    "\n",
    "# Time to do some math\n",
    "df['W'] = pd.to_numeric(df['W'])\n",
    "df['L'] = pd.to_numeric(df['L'])\n",
    "df['SUM'] = df[['W','L']].dot([1,1])\n",
    "df['Ratio'] = df['W']/df['SUM']\n",
    "\n",
    "# New york City\n",
    "def filter_rows_by_values(df, col, values):\n",
    "    return df[df[col].isin(values)]\n",
    "ab = filter_rows_by_values(df,\"Metropolitan area\",[\"New York City\"])\n",
    "ab\n",
    "\n",
    "# Now to get the mean of ratio New York City\n",
    "results = ab[\"Ratio\"].mean()\n",
    "results\n",
    "\n",
    "# Let's see if df[loc helps]\n",
    "df.loc[df[\"Metropolitan area\"] == \"New York City\", \"Ratio\"] = results\n",
    "\n",
    "# Los angeles data\n",
    "def filter_rows_by_values(df, col, values):\n",
    "    return df[df[col].isin(values)]\n",
    "ac = filter_rows_by_values(df,\"Metropolitan area\",[\"Los Angeles\"])\n",
    "ac\n",
    "\n",
    "results = ac[\"Ratio\"].mean()\n",
    "results\n",
    "\n",
    "#Los Angeles plugging it back in\n",
    "df.loc[df[\"Metropolitan area\"] == \"Los Angeles\", \"Ratio\"] = results\n",
    "\n",
    "# San Francisco Bay Area info\n",
    "def filter_rows_by_values(df, col, values):\n",
    "    return df[df[col].isin(values)]\n",
    "arm = filter_rows_by_values(df,\"Metropolitan area\",[\"San Francisco Bay Area\"])\n",
    "arm\n",
    "\n",
    "results = arm[\"Ratio\"].mean()\n",
    "results\n",
    "\n",
    "#San Fran plugging it back in\n",
    "df.loc[df[\"Metropolitan area\"] == \"San Francisco Bay Area\", \"Ratio\"] = results\n",
    " \n",
    "\n",
    "#Chicago Values Sortting\n",
    "def filter_rows_by_values(df, col, values):\n",
    "    return df[df[col].isin(values)]\n",
    "art = filter_rows_by_values(df,\"Metropolitan area\",[\"Chicago\"])\n",
    "art\n",
    "\n",
    "results = art[\"Ratio\"].mean()\n",
    "results\n",
    "\n",
    "#Chicago plugging it back in\n",
    "df.loc[df[\"Metropolitan area\"] == \"Chicago\", \"Ratio\"] = results\n",
    "\n",
    "\n",
    "#Apperently everything needs to be integers\n",
    "\n",
    "df['year'] = pd.to_numeric(df['year'])\n",
    "df['Population (2016 est.)[8]'] = pd.to_numeric(df['Population (2016 est.)[8]'])\n",
    "\n",
    "# Now to drop duplicates\n",
    "df = df.drop_duplicates(subset=\"Metropolitan area\").reset_index()\n",
    "df = df.drop(columns=\"index\")\n",
    "\n",
    "#Lets see what happens\n",
    "df.loc[df[\"Metropolitan area\"] == \"Chicago\", \"Ratio\"] = 0.50000\n",
    "\n",
    "\n",
    "def mlb_correlation(): \n",
    "    # YOUR CODE HERE\n",
    "    \n",
    "    \n",
    "    population_by_region =  df[\"Population (2016 est.)[8]\"] # pass in metropolitan area population from cities\n",
    "    win_loss_by_region = df[\"Ratio\"] # pass in win/loss ratio from mlb_df in the same order as cities[\"Metropolitan area\"]\n",
    "\n",
    "    assert len(population_by_region) == len(win_loss_by_region), \"Q3: Your lists must be the same length\"\n",
    "    assert len(population_by_region) == 26, \"Q3: There should be 26 teams being analysed for MLB\"\n",
    "\n",
    "    return stats.pearsonr(population_by_region, win_loss_by_region)[0]\n"
   ]
  },
  {
   "cell_type": "code",
   "execution_count": 86,
   "metadata": {},
   "outputs": [
    {
     "data": {
      "text/plain": [
       "0.15855411834516028"
      ]
     },
     "execution_count": 86,
     "metadata": {},
     "output_type": "execute_result"
    }
   ],
   "source": [
    "mlb_correlation()"
   ]
  },
  {
   "cell_type": "code",
   "execution_count": null,
   "metadata": {},
   "outputs": [],
   "source": []
  },
  {
   "cell_type": "code",
   "execution_count": null,
   "metadata": {},
   "outputs": [],
   "source": []
  },
  {
   "cell_type": "code",
   "execution_count": null,
   "metadata": {
    "deletable": false,
    "editable": false,
    "nbgrader": {
     "checksum": "cda33b094ba19ccc37a481e0dd29e0bc",
     "grade": true,
     "grade_id": "cell-764d4476f425c5a2",
     "locked": true,
     "points": 20,
     "schema_version": 1,
     "solution": false
    }
   },
   "outputs": [],
   "source": []
  },
  {
   "cell_type": "markdown",
   "metadata": {
    "deletable": false,
    "editable": false,
    "nbgrader": {
     "checksum": "6977a6da9ed6d8b7a0b7e37bbeda709b",
     "grade": false,
     "grade_id": "cell-793df6c04dfb126e",
     "locked": true,
     "schema_version": 1,
     "solution": false
    }
   },
   "source": [
    "## Question 4\n",
    "For this question, calculate the win/loss ratio's correlation with the population of the city it is in for the **NFL** using **2018** data."
   ]
  },
  {
   "cell_type": "code",
   "execution_count": 166,
   "metadata": {
    "deletable": false,
    "nbgrader": {
     "checksum": "c4914ad1e119278ec2bd567c52640b66",
     "grade": false,
     "grade_id": "cell-8ccebc209aeec8d9",
     "locked": false,
     "schema_version": 1,
     "solution": true
    }
   },
   "outputs": [],
   "source": [
    "import pandas as pd\n",
    "import numpy as np\n",
    "import scipy.stats as stats\n",
    "import re\n",
    "\n",
    "nfl_df=pd.read_csv(\"assets/nfl.csv\",usecols=[\"team\",\"year\",\"W\",\"L\"])\n",
    "cities=pd.read_html(\"assets/wikipedia_data.html\")[1]\n",
    "cities=cities.iloc[:-1,[0,3,5,6,7,8]]\n",
    "\n",
    "\n",
    "#Sort by 2018\n",
    "df = nfl_df[nfl_df['year']==2018]\n",
    "nfl_df = df\n",
    "\n",
    "# Replacing everything at the end           \n",
    "\n",
    "##Trying to get rid of these values\n",
    "nfl_df.loc[nfl_df[\"team\"].str[-1] == '*',\"team\"] = nfl_df[\"team\"].str[:-1]\n",
    "nfl_df.loc[nfl_df[\"team\"].str[-1] == '+',\"team\"] = nfl_df[\"team\"].str[:-1]\n",
    "\n",
    "##Need to rename some team (cries softly)\n",
    "cities.replace({'GiantsJets[note 1]':'New York Giants,New York Jets',\n",
    "               'RamsChargers[note 4]':'Los Angeles Rams,Los Angeles Chargers',\n",
    "               '49ersRaiders[note 6]':'San Francisco 49ers,Oakland Raiders',\n",
    "                'Bears[note 8]':'Chicago Bears',\n",
    "               'Cowboys':'Dallas Cowboys',\n",
    "               'Redskins':'Washington Redskins',\n",
    "               'Eagles':'Philadelphia Eagles',\n",
    "               'Patriots[note 14]':'New England Patriots',\n",
    "               'Vikings':'Minnesota Vikings',\n",
    "               'Broncos':'Denver Broncos',\n",
    "               'Dolphins':'Miami Dolphins',\n",
    "               'Cardinals':'Arizona Cardinals',\n",
    "               'Lions':'Detroit Lions',\n",
    "               'Texans[note 24]':'Houston Texans',\n",
    "               'Falcons':'Atlanta Falcons',\n",
    "               'Buccaneers':'Tampa Bay Buccaneers',\n",
    "               'Steelers':'Pittsburgh Steelers',\n",
    "               'Browns[note 29]':'Cleveland Browns',\n",
    "               'Seahawks':'Seattle Seahawks',\n",
    "               'Bengals':'Cincinnati Bengals',\n",
    "               'Chiefs':'Kansas City Chiefs',\n",
    "                'Ravens[note 45]':'Baltimore Ravens',\n",
    "               'Panthers':'Carolina Panthers',\n",
    "               'Colts':'Indianapolis Colts',\n",
    "               'Titans':'Tennessee Titans',\n",
    "               'Saints':'New Orleans Saints',\n",
    "               'Bills[note 56]':'Buffalo Bills',\n",
    "               'Jaguars':'Jacksonville Jaguars',\n",
    "               'Packers':'Green Bay Packers'},inplace=True)\n",
    "\n",
    "##Now lets have all of the crap split \n",
    "cities[\"NFL\"] = cities[\"NFL\"].apply(lambda x: x.split(\",\"))\n",
    "cities = cities.explode(\"NFL\")\n",
    "cities\n",
    "\n",
    "#Merging Dataframes:\n",
    "df = pd.merge(cities, nfl_df, left_on=\"NFL\", right_on=\"team\")\n",
    "\n",
    "# Time to do some math\n",
    "df['W'] = pd.to_numeric(df['W'])\n",
    "df['L'] = pd.to_numeric(df['L'])\n",
    "df['SUM'] = df[['W','L']].dot([1,1])\n",
    "df['Ratio'] = df['W']/df['SUM']\n",
    "\n",
    "def filter_rows_by_values(df, col, values):\n",
    "    return df[df[col].isin(values)]\n",
    "ab = filter_rows_by_values(df,\"Metropolitan area\",[\"New York City\"])\n",
    "ab\n",
    "\n",
    "# Now to get the mean of ratio\n",
    "results = ab[\"Ratio\"].mean()\n",
    "results\n",
    "\n",
    "# Let's see if df[loc helps]\n",
    "df.loc[df[\"Metropolitan area\"] == \"New York City\", \"Ratio\"] = results\n",
    "\n",
    "# Los angeles data\n",
    "def filter_rows_by_values(df, col, values):\n",
    "    return df[df[col].isin(values)]\n",
    "ac = filter_rows_by_values(df,\"Metropolitan area\",[\"Los Angeles\"])\n",
    "ac\n",
    "\n",
    "results = ac[\"Ratio\"].mean()\n",
    "results\n",
    "#Los Angeles plugging it back in\n",
    "df.loc[df[\"Metropolitan area\"] == \"Los Angeles\", \"Ratio\"] = results\n",
    "\n",
    "\n",
    "# San Francisco Bay Area info\n",
    "def filter_rows_by_values(df, col, values):\n",
    "    return df[df[col].isin(values)]\n",
    "arm = filter_rows_by_values(df,\"Metropolitan area\",[\"San Francisco Bay Area\"])\n",
    "arm\n",
    "\n",
    "results = arm[\"Ratio\"].mean()\n",
    "results\n",
    "\n",
    "#San Fran plugging it back in\n",
    "df.loc[df[\"Metropolitan area\"] == \"San Francisco Bay Area\", \"Ratio\"] = results\n",
    " \n",
    "# Now to drop duplicates\n",
    "df = df.drop_duplicates(subset=\"Metropolitan area\").reset_index()\n",
    "df = df.drop(columns=\"index\")\n",
    "\n",
    "#Apperently everything needs to be integers\n",
    "\n",
    "df['year'] = pd.to_numeric(df['year'])\n",
    "df['Population (2016 est.)[8]'] = pd.to_numeric(df['Population (2016 est.)[8]'])\n",
    "\n",
    "\n",
    "\n",
    "def nfl_correlation(): \n",
    "\n",
    "    \n",
    "    population_by_region = df[\"Population (2016 est.)[8]\"] # pass in metropolitan area population from cities\n",
    "    win_loss_by_region = df[\"Ratio\"] # pass in win/loss ratio from nba_df in the same order as cities[\"Metropolitan area\"]\n",
    "\n",
    "    assert len(population_by_region) == len(win_loss_by_region), \"Q4: Your lists must be the same length\"\n",
    "    assert len(population_by_region) == 29, \"Q4: There should be 29 teams being analysed for NFL\"\n",
    "\n",
    "    return stats.pearsonr(population_by_region, win_loss_by_region)[0]"
   ]
  },
  {
   "cell_type": "code",
   "execution_count": null,
   "metadata": {
    "deletable": false,
    "editable": false,
    "nbgrader": {
     "checksum": "e9415d6399aa49e3a1a60813afdefa3b",
     "grade": true,
     "grade_id": "cell-de7b148b9554dbda",
     "locked": true,
     "points": 20,
     "schema_version": 1,
     "solution": false
    }
   },
   "outputs": [],
   "source": []
  },
  {
   "cell_type": "code",
   "execution_count": 167,
   "metadata": {},
   "outputs": [
    {
     "data": {
      "text/plain": [
       "0.004922112149349386"
      ]
     },
     "execution_count": 167,
     "metadata": {},
     "output_type": "execute_result"
    }
   ],
   "source": [
    "nfl_correlation()"
   ]
  },
  {
   "cell_type": "code",
   "execution_count": null,
   "metadata": {},
   "outputs": [],
   "source": []
  },
  {
   "cell_type": "code",
   "execution_count": null,
   "metadata": {},
   "outputs": [],
   "source": []
  },
  {
   "cell_type": "markdown",
   "metadata": {
    "deletable": false,
    "editable": false,
    "nbgrader": {
     "checksum": "b02d5cd3273f561e4ae939bb2a41740c",
     "grade": false,
     "grade_id": "cell-97b49d8639e908c4",
     "locked": true,
     "schema_version": 1,
     "solution": false
    }
   },
   "source": [
    "## Question 5\n",
    "In this question I would like you to explore the hypothesis that **given that an area has two sports teams in different sports, those teams will perform the same within their respective sports**. How I would like to see this explored is with a series of paired t-tests (so use [`ttest_rel`](https://docs.scipy.org/doc/scipy/reference/generated/scipy.stats.ttest_rel.html)) between all pairs of sports. Are there any sports where we can reject the null hypothesis? Again, average values where a sport has multiple teams in one region. Remember, you will only be including, for each sport, cities which have teams engaged in that sport, drop others as appropriate. This question is worth 20% of the grade for this assignment."
   ]
  },
  {
   "cell_type": "code",
   "execution_count": 168,
   "metadata": {
    "deletable": false,
    "nbgrader": {
     "checksum": "6d78c961eb66f8d8c81f06d33ae8f393",
     "grade": false,
     "grade_id": "cell-92f25f44b8d1179f",
     "locked": false,
     "schema_version": 1,
     "solution": true
    }
   },
   "outputs": [],
   "source": [
    "import pandas as pd\n",
    "import numpy as np\n",
    "import scipy.stats as stats\n",
    "import re\n",
    "\n",
    "mlb_df=pd.read_csv(\"assets/mlb.csv\")\n",
    "nhl_df=pd.read_csv(\"assets/nhl.csv\")\n",
    "nba_df=pd.read_csv(\"assets/nba.csv\")\n",
    "nfl_df=pd.read_csv(\"assets/nfl.csv\")\n",
    "cities=pd.read_html(\"assets/wikipedia_data.html\")[1]\n",
    "cities=cities.iloc[:-1,[0,3,5,6,7,8]]\n",
    "\n",
    "def sports_team_performance():\n",
    "    # YOUR CODE HERE\n",
    "  \n",
    "    \n",
    "    # Note: p_values is a full dataframe, so df.loc[\"NFL\",\"NBA\"] should be the same as df.loc[\"NBA\",\"NFL\"] and\n",
    "    # df.loc[\"NFL\",\"NFL\"] should return np.nan\n",
    "    sports = ['NFL', 'NBA', 'NHL', 'MLB']\n",
    "    p_values = pd.DataFrame({k:np.nan for k in sports}, index=sports)\n",
    "    \n",
    "    assert abs(p_values.loc[\"NBA\", \"NHL\"] - 0.02) <= 1e-2, \"The NBA-NHL p-value should be around 0.02\"\n",
    "    assert abs(p_values.loc[\"MLB\", \"NFL\"] - 0.80) <= 1e-2, \"The MLB-NFL p-value should be around 0.80\"\n",
    "    return p_values"
   ]
  },
  {
   "cell_type": "code",
   "execution_count": null,
   "metadata": {
    "deletable": false,
    "editable": false,
    "nbgrader": {
     "checksum": "2a596ab421a45cc01168d10e8fbb8f89",
     "grade": true,
     "grade_id": "cell-fb4b9cb5ff4570a6",
     "locked": true,
     "points": 20,
     "schema_version": 1,
     "solution": false
    }
   },
   "outputs": [],
   "source": []
  }
 ],
 "metadata": {
  "coursera": {
   "schema_names": [
    "mooc_adswpy_1_v2_assignment4"
   ]
  },
  "kernelspec": {
   "display_name": "Python 3",
   "language": "python",
   "name": "python3"
  },
  "language_info": {
   "codemirror_mode": {
    "name": "ipython",
    "version": 3
   },
   "file_extension": ".py",
   "mimetype": "text/x-python",
   "name": "python",
   "nbconvert_exporter": "python",
   "pygments_lexer": "ipython3",
   "version": "3.7.3"
  },
  "vscode": {
   "interpreter": {
    "hash": "1286dd79ec17c7492b98d3541bf18791336cf1448004270b6773d3e5d31fd4d6"
   }
  }
 },
 "nbformat": 4,
 "nbformat_minor": 4
}
