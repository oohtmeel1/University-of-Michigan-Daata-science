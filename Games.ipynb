{
 "cells": [
  {
   "cell_type": "code",
   "execution_count": 12,
   "metadata": {},
   "outputs": [],
   "source": [
    "\n",
    "import random\n",
    "\n",
    "\n",
    "def result():\n",
    "  return random.randint(0,2)\n",
    "\n",
    "def game():\n",
    "  a = result()\n",
    "  b = result()\n",
    "  # 0 = rock, 1 = paper, 2= scissors\n",
    "  if a == b:\n",
    "    print(\"tie\")\n",
    "  elif a == 0 and b == 2:\n",
    "    print(\" A is rock and B is scissors, A won\")\n",
    "  elif a == 2 and b == 0:\n",
    "    print(\"A is scissor and B is rock, B won\")\n",
    "  elif a == 0 and b == 1:\n",
    "    print(\"A is rock abd B is paper, B won\")\n",
    "  elif a == 1 and b == 0:\n",
    "    print(\"A is paper and B is rock, A won\")\n",
    "  elif a == 1 and b == 2:\n",
    "    print(\" A is paper and B is scissors, B won\")\n",
    "  else:\n",
    "    print(\"A is scissor and B is paper, A won\")\n",
    "    \n",
    "\n"
   ]
  },
  {
   "cell_type": "code",
   "execution_count": 13,
   "metadata": {},
   "outputs": [
    {
     "name": "stdout",
     "output_type": "stream",
     "text": [
      "A os paper and B is rock, A won\n"
     ]
    }
   ],
   "source": [
    "game()"
   ]
  },
  {
   "cell_type": "code",
   "execution_count": 18,
   "metadata": {},
   "outputs": [
    {
     "name": "stdout",
     "output_type": "stream",
     "text": [
      "A won: 40 .B Won 29\n"
     ]
    }
   ],
   "source": [
    "def game_count():\n",
    "  a = result()\n",
    "  b = result()\n",
    "  # 0 is rock 1 = paper 2 = scissors\n",
    "  if a == 0 and b == 2:\n",
    "    return'A'\n",
    "  elif a == 2 and b == 0:\n",
    "    return 'B'\n",
    "  elif a == 0 and b == 1:\n",
    "    return 'B'\n",
    "  elif a == 1 and b == 0:\n",
    "    return 'A'\n",
    "  elif a == 1 and b == 2:\n",
    "    return 'B'\n",
    "  elif a == 2 and b == 1:\n",
    "    return 'A'\n",
    "  else:\n",
    "    return 'T'\n",
    "  \n",
    "def multi_game(n):\n",
    "  a_win = 0\n",
    "  b_win = 0\n",
    "  for i in range(n):\n",
    "    result = game_count()\n",
    "    if result == 'A':\n",
    "      a_win +=1\n",
    "    elif result == 'B':\n",
    "      b_win +=1\n",
    "  print('A won:',a_win, \".B Won\", b_win)\n",
    "  \n",
    "multi_game(99)"
   ]
  },
  {
   "cell_type": "code",
   "execution_count": 7,
   "metadata": {},
   "outputs": [
    {
     "name": "stdout",
     "output_type": "stream",
     "text": [
      "tail\n"
     ]
    }
   ],
   "source": [
    "# Coin Flip\n",
    "import random\n",
    "\n",
    "def coin_flip():\n",
    "  if random.random() >= 0.5:\n",
    "    return 'head'\n",
    "  else:\n",
    "    return 'tail'\n",
    "print(coin_flip())"
   ]
  },
  {
   "cell_type": "markdown",
   "metadata": {},
   "source": [
    "## Can you use the functions defined above, to simulate a process of flipping a coin 100 times? 10000 times? \n",
    "*  Can you print out the basic statistics of the experiment, such as the percentage of heads, the percentage of tails in the number of flipping?\n",
    "*  A perfect coin should has the percentage of head as 50%. Is your result the same as it? If not, can you improve it?"
   ]
  },
  {
   "cell_type": "code",
   "execution_count": 9,
   "metadata": {},
   "outputs": [
    {
     "name": "stdout",
     "output_type": "stream",
     "text": [
      "8\n"
     ]
    }
   ],
   "source": [
    "# Generate a random positive number\n",
    "import random\n",
    "\n",
    "i = random.randint(1,9)\n",
    "print(i)"
   ]
  },
  {
   "cell_type": "code",
   "execution_count": 10,
   "metadata": {},
   "outputs": [
    {
     "name": "stdout",
     "output_type": "stream",
     "text": [
      "34\n"
     ]
    }
   ],
   "source": [
    "# Now do it again with 0 to 100\n",
    "i = random.randint(0,100)\n",
    "print(i)"
   ]
  },
  {
   "cell_type": "code",
   "execution_count": 11,
   "metadata": {},
   "outputs": [
    {
     "name": "stdout",
     "output_type": "stream",
     "text": [
      "70\n"
     ]
    }
   ],
   "source": [
    "a = int(input('Please enter a: '))\n",
    "b = int(input('Please enter b: '))\n",
    "\n",
    "if a > b:\n",
    "  a, b = b, a\n",
    "i = random.randint(a,b)\n",
    "print(i)"
   ]
  },
  {
   "cell_type": "code",
   "execution_count": 12,
   "metadata": {},
   "outputs": [
    {
     "name": "stdout",
     "output_type": "stream",
     "text": [
      "0.9465990626085217\n"
     ]
    }
   ],
   "source": [
    "# Generate a random float\n",
    "\n",
    "f = random.random()\n",
    "print(f)"
   ]
  },
  {
   "cell_type": "code",
   "execution_count": 13,
   "metadata": {},
   "outputs": [
    {
     "name": "stdout",
     "output_type": "stream",
     "text": [
      "0.8505021126924439\n"
     ]
    }
   ],
   "source": [
    "\n",
    "# Generate a random float between 0 and 10\n",
    "\n",
    "f = random.uniform(0,10)\n",
    "print(f)"
   ]
  },
  {
   "cell_type": "code",
   "execution_count": 14,
   "metadata": {},
   "outputs": [
    {
     "name": "stdout",
     "output_type": "stream",
     "text": [
      "-1.142324283556771\n"
     ]
    }
   ],
   "source": [
    "# random gaussian float\n",
    "f = random.gauss(0,1)\n",
    "print(f)"
   ]
  },
  {
   "cell_type": "code",
   "execution_count": 15,
   "metadata": {},
   "outputs": [],
   "source": [
    "# Generate a list of 1000 random integers\n",
    "l = []\n",
    "for i in range(1000):\n",
    "  l.append(random.random())"
   ]
  },
  {
   "cell_type": "code",
   "execution_count": 17,
   "metadata": {},
   "outputs": [],
   "source": [
    "# Generate aa list of random integers within 0 and 10\n",
    "\n",
    "l = []\n",
    "for i in range(1000):\n",
    "  l.append(random.randint(0,10))"
   ]
  },
  {
   "cell_type": "code",
   "execution_count": 18,
   "metadata": {},
   "outputs": [],
   "source": [
    "# Generate a list of 1000 numbers following normal distribuition with 10 as mean and 1 as STDEV\n",
    "\n",
    "l = []\n",
    "for i in range(1000):\n",
    "  l.append(random.normalvariate(10,1))"
   ]
  },
  {
   "cell_type": "code",
   "execution_count": 22,
   "metadata": {},
   "outputs": [
    {
     "data": {
      "text/plain": [
       "['ace', 'four', 'three', 'two']"
      ]
     },
     "execution_count": 22,
     "metadata": {},
     "output_type": "execute_result"
    }
   ],
   "source": [
    "deck = 'ace two three four'.split()\n",
    "random.shuffle(deck)\n",
    "deck"
   ]
  },
  {
   "cell_type": "code",
   "execution_count": 28,
   "metadata": {},
   "outputs": [
    {
     "ename": "TypeError",
     "evalue": "'module' object is not callable",
     "output_type": "error",
     "traceback": [
      "\u001b[1;31m---------------------------------------------------------------------------\u001b[0m",
      "\u001b[1;31mTypeError\u001b[0m                                 Traceback (most recent call last)",
      "Cell \u001b[1;32mIn [28], line 1\u001b[0m\n\u001b[1;32m----> 1\u001b[0m random()\n",
      "\u001b[1;31mTypeError\u001b[0m: 'module' object is not callable"
     ]
    }
   ],
   "source": []
  },
  {
   "cell_type": "code",
   "execution_count": null,
   "metadata": {},
   "outputs": [],
   "source": []
  }
 ],
 "metadata": {
  "kernelspec": {
   "display_name": "Python 3",
   "language": "python",
   "name": "python3"
  },
  "language_info": {
   "codemirror_mode": {
    "name": "ipython",
    "version": 3
   },
   "file_extension": ".py",
   "mimetype": "text/x-python",
   "name": "python",
   "nbconvert_exporter": "python",
   "pygments_lexer": "ipython3",
   "version": "3.11.0"
  },
  "orig_nbformat": 4,
  "vscode": {
   "interpreter": {
    "hash": "1286dd79ec17c7492b98d3541bf18791336cf1448004270b6773d3e5d31fd4d6"
   }
  }
 },
 "nbformat": 4,
 "nbformat_minor": 2
}
